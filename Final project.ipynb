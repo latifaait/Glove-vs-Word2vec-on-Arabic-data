{
 "cells": [
  {
   "cell_type": "markdown",
   "metadata": {},
   "source": [
    "# Tools used "
   ]
  },
  {
   "cell_type": "markdown",
   "metadata": {},
   "source": [
    "-Python 3\n",
    "\n",
    "-NLTK for processing and cleaning \n",
    "\n",
    "-regex for cleaning data\n",
    "\n",
    "-Seaborn and matplotlib for visulization\n",
    "\n",
    "-Scikit learn for machine learning models"
   ]
  },
  {
   "cell_type": "code",
   "execution_count": 1,
   "metadata": {
    "collapsed": true
   },
   "outputs": [],
   "source": [
    "import pandas as pd\n",
    "from nltk.stem.isri import ISRIStemmer\n",
    "import nltk\n",
    "import gensim\n",
    "import gensim.models.word2vec as w2v\n",
    "import seaborn as sns\n",
    "import matplotlib.pyplot as plt \n",
    "import regex\n",
    "import re\n",
    "import numpy as np\n",
    "import unicodedata\n",
    "%matplotlib inline"
   ]
  },
  {
   "cell_type": "code",
   "execution_count": 2,
   "metadata": {
    "collapsed": true
   },
   "outputs": [],
   "source": [
    "data = pd.read_csv('Arabic/NU_EG_Twitter_corpus_train.csv')\n",
    "data['sent'] = data['class']\n",
    "data = data.drop('class', 1)\n",
    "stopWords = \"Arabic/arabicStops.txt\""
   ]
  },
  {
   "cell_type": "code",
   "execution_count": 3,
   "metadata": {
    "collapsed": true
   },
   "outputs": [],
   "source": [
    "filepath = \"Arabic/SemEval2017-train_arabic.txt\"\n",
    "df = pd.DataFrame()\n",
    "with open(filepath, 'r', encoding='utf-8') as f:\n",
    "    for line in f:\n",
    "        df = pd.concat( [df, pd.DataFrame([tuple(line.strip().split('\\t'))])], ignore_index=True )\n",
    "        "
   ]
  },
  {
   "cell_type": "code",
   "execution_count": 4,
   "metadata": {
    "collapsed": false
   },
   "outputs": [
    {
     "data": {
      "text/html": [
       "<div>\n",
       "<table border=\"1\" class=\"dataframe\">\n",
       "  <thead>\n",
       "    <tr style=\"text-align: right;\">\n",
       "      <th></th>\n",
       "      <th>id</th>\n",
       "      <th>tweet</th>\n",
       "    </tr>\n",
       "  </thead>\n",
       "  <tbody>\n",
       "    <tr>\n",
       "      <th>0</th>\n",
       "      <td>3</td>\n",
       "      <td>كل حلم بألم .. كل خطوه بعذاب ..</td>\n",
       "    </tr>\n",
       "    <tr>\n",
       "      <th>1</th>\n",
       "      <td>7</td>\n",
       "      <td>العسكري مدرس التاريخ في شبرا جايب عربيات همر ل...</td>\n",
       "    </tr>\n",
       "    <tr>\n",
       "      <th>2</th>\n",
       "      <td>8</td>\n",
       "      <td>الشقااااااااااوة لعبتى  والشمال مش سكتى ؟</td>\n",
       "    </tr>\n",
       "    <tr>\n",
       "      <th>3</th>\n",
       "      <td>9</td>\n",
       "      <td>@memoali4ever  انا كان عندي حساب واتقفل كان عن...</td>\n",
       "    </tr>\n",
       "    <tr>\n",
       "      <th>4</th>\n",
       "      <td>18</td>\n",
       "      <td>\"\"\"@mahmoud_turkey0 ياعم أتنيل، دي كفاية أمها ...</td>\n",
       "    </tr>\n",
       "  </tbody>\n",
       "</table>\n",
       "</div>"
      ],
      "text/plain": [
       "   id                                              tweet\n",
       "0   3                    كل حلم بألم .. كل خطوه بعذاب ..\n",
       "1   7  العسكري مدرس التاريخ في شبرا جايب عربيات همر ل...\n",
       "2   8          الشقااااااااااوة لعبتى  والشمال مش سكتى ؟\n",
       "3   9  @memoali4ever  انا كان عندي حساب واتقفل كان عن...\n",
       "4  18  \"\"\"@mahmoud_turkey0 ياعم أتنيل، دي كفاية أمها ..."
      ]
     },
     "execution_count": 4,
     "metadata": {},
     "output_type": "execute_result"
    }
   ],
   "source": [
    "test = pd.read_csv('Arabic/arabic_test.csv')\n",
    "test.head(5)"
   ]
  },
  {
   "cell_type": "markdown",
   "metadata": {},
   "source": [
    "Now I created a dataframe, merging the two data files just for ease ot use "
   ]
  },
  {
   "cell_type": "code",
   "execution_count": 5,
   "metadata": {
    "collapsed": true
   },
   "outputs": [],
   "source": [
    "df.columns = ['id', 'sent', 'tweet']"
   ]
  },
  {
   "cell_type": "code",
   "execution_count": 6,
   "metadata": {
    "collapsed": true
   },
   "outputs": [],
   "source": [
    "my_data = pd.concat([data, df], ignore_index=True)\n",
    "my_data['sent'] = my_data['sent'].replace(['pos'], 'positive')\n",
    "my_data['sent'] = my_data['sent'].replace(['neg'], 'negative')\n",
    "my_data['sent'] = my_data['sent'].replace(['neu'], 'neutral')"
   ]
  },
  {
   "cell_type": "code",
   "execution_count": 393,
   "metadata": {
    "collapsed": false
   },
   "outputs": [
    {
     "data": {
      "text/plain": [
       "(6064, 3)"
      ]
     },
     "execution_count": 393,
     "metadata": {},
     "output_type": "execute_result"
    }
   ],
   "source": [
    "my_data = my_data.drop_duplicates()\n",
    "my_data.shape"
   ]
  },
  {
   "cell_type": "code",
   "execution_count": 8,
   "metadata": {
    "collapsed": false
   },
   "outputs": [
    {
     "data": {
      "text/plain": [
       "neutral     2189\n",
       "negative    2092\n",
       "positive    1783\n",
       "Name: sent, dtype: int64"
      ]
     },
     "execution_count": 8,
     "metadata": {},
     "output_type": "execute_result"
    }
   ],
   "source": [
    "my_data.sent.value_counts()"
   ]
  },
  {
   "cell_type": "markdown",
   "metadata": {},
   "source": [
    "# Reading stopwords"
   ]
  },
  {
   "cell_type": "code",
   "execution_count": 10,
   "metadata": {
    "collapsed": true
   },
   "outputs": [],
   "source": [
    "with open(stopWords, 'r', encoding='utf-8') as f:\n",
    "    stopwords1 = f.readlines()"
   ]
  },
  {
   "cell_type": "code",
   "execution_count": 11,
   "metadata": {
    "collapsed": false
   },
   "outputs": [
    {
     "name": "stderr",
     "output_type": "stream",
     "text": [
      "/Library/Frameworks/Python.framework/Versions/3.5/lib/python3.5/site-packages/sklearn/cross_validation.py:44: DeprecationWarning: This module was deprecated in version 0.18 in favor of the model_selection module into which all the refactored classes and functions are moved. Also note that the interface of the new CV iterators are different from that of this module. This module will be removed in 0.20.\n",
      "  \"This module will be removed in 0.20.\", DeprecationWarning)\n"
     ]
    }
   ],
   "source": [
    "from sklearn.feature_extraction.text import TfidfVectorizer, CountVectorizer, TfidfTransformer\n",
    "from sklearn.feature_selection import SelectKBest\n",
    "from sklearn.cross_validation import train_test_split, KFold, cross_val_score\n",
    "from sklearn.preprocessing import StandardScaler, Normalizer, RobustScaler, MinMaxScaler\n",
    "from sklearn.metrics import accuracy_score, confusion_matrix, classification_report\n",
    "from sklearn.manifold import TSNE\n",
    "from sklearn.preprocessing import LabelEncoder\n",
    "from sklearn.decomposition import PCA, TruncatedSVD\n",
    "from sklearn.pipeline import Pipeline, FeatureUnion\n",
    "from sklearn.naive_bayes import BernoulliNB, MultinomialNB"
   ]
  },
  {
   "cell_type": "markdown",
   "metadata": {},
   "source": [
    "# Base line experiment "
   ]
  },
  {
   "cell_type": "markdown",
   "metadata": {},
   "source": [
    "we started with 56.1 % accuracy with a bold model before any preprocessing or features or parameters tuning\n",
    "\n",
    "using Bernoulli Naive Bayes and a test set of 20%"
   ]
  },
  {
   "cell_type": "code",
   "execution_count": 12,
   "metadata": {
    "collapsed": true
   },
   "outputs": [],
   "source": [
    "from sklearn.naive_bayes import MultinomialNB, BernoulliNB, GaussianNB\n",
    "#nb = GaussianNB()\n",
    "nb = BernoulliNB(alpha=1.3)"
   ]
  },
  {
   "cell_type": "code",
   "execution_count": 487,
   "metadata": {
    "collapsed": true
   },
   "outputs": [],
   "source": [
    "nb1 = MultinomialNB(alpha=2.5)"
   ]
  },
  {
   "cell_type": "code",
   "execution_count": 183,
   "metadata": {
    "collapsed": true
   },
   "outputs": [],
   "source": [
    "Analyzer = TfidfVectorizer().build_analyzer()"
   ]
  },
  {
   "cell_type": "code",
   "execution_count": 458,
   "metadata": {
    "collapsed": false
   },
   "outputs": [],
   "source": [
    "tf = TfidfVectorizer(min_df=2, max_df=0.9, stop_words=stopwords1, ngram_range=(1,2), analyzer=Analyzer, max_features=2500, lowercase=False)"
   ]
  },
  {
   "cell_type": "markdown",
   "metadata": {},
   "source": [
    "After tuning all parameters and switching to Multinomial Naive Bayes our accuracy went up to 60.8 % accuracy"
   ]
  },
  {
   "cell_type": "markdown",
   "metadata": {},
   "source": [
    "# Cleaning Data"
   ]
  },
  {
   "cell_type": "markdown",
   "metadata": {},
   "source": [
    "We handled all the cleaning and the features generation in the cleaning function"
   ]
  },
  {
   "cell_type": "markdown",
   "metadata": {},
   "source": [
    "we removed all emoticons and replaced them with the emotion they represent wheather happy or sad or meh"
   ]
  },
  {
   "cell_type": "markdown",
   "metadata": {},
   "source": [
    "We replaced all links in the documents and with the word لينك "
   ]
  },
  {
   "cell_type": "markdown",
   "metadata": {},
   "source": [
    "We also replaced all mentions with the word منشن"
   ]
  },
  {
   "cell_type": "markdown",
   "metadata": {},
   "source": [
    "after that we removed all non arabic words with all digits, punctuations, extra spaces and strange characters and stop words"
   ]
  },
  {
   "cell_type": "markdown",
   "metadata": {},
   "source": [
    "we tried ISRI stemmer at the beginning and then we used the stemmer provided by Dr Samhaa"
   ]
  },
  {
   "cell_type": "code",
   "execution_count": 459,
   "metadata": {
    "collapsed": true
   },
   "outputs": [],
   "source": [
    "def clean(text):\n",
    "        \n",
    "        def remove_elongation(text):        \n",
    "\n",
    "            return regex.sub(r'(.)\\1{3,}',r'\\1\\1', text, flags=regex.UNICODE)\n",
    "\n",
    "        #remove tashkeel \n",
    "        tashkeel = r\"[ًٌٍَُِّ~ْ:؛×ًٌٍَِّْ]\"\n",
    "        text = regex.sub(tashkeel,\"\", text, flags=regex.UNICODE)\n",
    "      \n",
    "        \n",
    "        r = u\"بتثجحخدذرزسشصضطظعغفقكلمنهةويى1234567890ؤئءأالا=abcdefghijklmnopqrstuvwxyz\\\\/-+!.:><*%&:?)($,\\\"'@\"\n",
    "        #smileys = u\"😍❤😘😖😀😁😂😃😄😅😆😇😈😉😊😋😌😍😎😏😐😑😒😓😔😕😖😗😘😙😚😛😜😝😞😟😠😡😢😣😥😦😧😨😩😪😫😭😮😯😰😱😲😳😴😵😶😷😸😹😺😻😼😽😾😿🙀\"\n",
    "        smileys = u\"😍😘😀😁😂😃😄😅😆😇😈😉😊😋😌😍😎😗😘😙😚😛😜😝😸😹😺😻😽❤\"\n",
    "        sad = u\"😓😔😕😖😞😟😠😡😢😣😥😦😧😨😩😪😫😭😮😯😰😱😲😵😶😷😾😿🙀\"\n",
    "        neu = u\"😳😴😼😒😗😐😑😏\"\n",
    "        r = r+smileys+sad+neu\n",
    "        \n",
    "        \n",
    "        for l in [t for t in text if t not in r]: \n",
    "            text = text.replace(l,\" \")\n",
    "            \n",
    "        for x in [t for t in text if t  in smileys]:\n",
    "            text = text.replace(x, \" سعيد \")\n",
    "            \n",
    "        for x in [t for t in text if t in sad]:\n",
    "            text = text.replace(x, \" حزين \")\n",
    "            \n",
    "        for x in [t for t in text if t in neu]:\n",
    "            text = text.replace(x, \"عادى\")\n",
    "            \n",
    "        #for x in[t for t in ]\n",
    "        \n",
    "        text = re.sub(r'http[s]*', r'لينك', text)\n",
    "        text = re.sub(r'@[a-zA-Z]*', r'منشن', text)\n",
    "        #text = re.sub(r'#[ةجحخهعغفقثصضشسيبلاتنمكورزدذطظ]*', r'هاشتاج', text)\n",
    "        \n",
    "        punc = \".?!,/\\|:،\"\n",
    "        \n",
    "        #separating punc from original words\n",
    "        \n",
    "        for p in punc:\n",
    "            text = text.replace(p,\" \")\n",
    "            #text = text.replace(p,\" \"+p+\" \")\n",
    "            \n",
    "        #for word in text.split(\" \"):\n",
    "        #    if word in stopwords1:\n",
    "        #        text = text.replace(word, \" \")\n",
    "        \n",
    "        text = unicodedata.normalize('NFC', text).encode('utf-8', 'ignore').decode()\n",
    "\n",
    "\n",
    "        text  = \" \".join([word for word in text.split(' ') if word not in stopwords1])\n",
    "\n",
    "\n",
    "        text = \"\".join([i for i in text if not i.isdigit()])\n",
    "        \n",
    "        text = \"\".join([w for w in text if not re.match(r'[a-zA-Z]+', w, re.I)])\n",
    "\n",
    "        #removing extra spaces\n",
    "        text = regex.sub(r'[\\s\\n]+',' ', text, flags=regex.UNICODE)\n",
    "        \n",
    "        \n",
    "        \n",
    "\n",
    "       \n",
    "        return text"
   ]
  },
  {
   "cell_type": "code",
   "execution_count": 239,
   "metadata": {
    "collapsed": true
   },
   "outputs": [],
   "source": [
    "tweets = tf.fit_transform(sentences)"
   ]
  },
  {
   "cell_type": "markdown",
   "metadata": {},
   "source": [
    "# Normalizing the data"
   ]
  },
  {
   "cell_type": "markdown",
   "metadata": {},
   "source": [
    "We tried multiple ways but the min max scaler worked the best for us"
   ]
  },
  {
   "cell_type": "code",
   "execution_count": 240,
   "metadata": {
    "collapsed": true
   },
   "outputs": [],
   "source": [
    "norm = Normalizer()\n",
    "sc = StandardScaler()\n",
    "mn = MinMaxScaler(feature_range=(0,1))\n",
    "tweets1 = mn.fit_transform(tweets.toarray())"
   ]
  },
  {
   "cell_type": "code",
   "execution_count": 206,
   "metadata": {
    "collapsed": false
   },
   "outputs": [
    {
     "data": {
      "text/plain": [
       "(6064,)"
      ]
     },
     "execution_count": 206,
     "metadata": {},
     "output_type": "execute_result"
    }
   ],
   "source": [
    "label_encoder = LabelEncoder()\n",
    "y = label_encoder.fit_transform(my_data.sent)\n",
    "y.shape"
   ]
  },
  {
   "cell_type": "markdown",
   "metadata": {},
   "source": [
    "# This is the training file after performing the stemmer provided by Dr Samhaa"
   ]
  },
  {
   "cell_type": "code",
   "execution_count": 436,
   "metadata": {
    "collapsed": true
   },
   "outputs": [],
   "source": [
    "filename = 'train1_out.txt'"
   ]
  },
  {
   "cell_type": "code",
   "execution_count": 439,
   "metadata": {
    "collapsed": false
   },
   "outputs": [],
   "source": [
    "def parse_my_file(filename):\n",
    "    with open(filename, encoding='utf-8') as f:\n",
    "        for line in f:\n",
    "            yield line.strip().split(' ', 1)"
   ]
  },
  {
   "cell_type": "code",
   "execution_count": 541,
   "metadata": {
    "collapsed": false
   },
   "outputs": [],
   "source": [
    "df = pd.DataFrame(parse_my_file(filename))\n",
    "df.columns = ['sent', 'tweet']"
   ]
  },
  {
   "cell_type": "code",
   "execution_count": 542,
   "metadata": {
    "collapsed": false
   },
   "outputs": [],
   "source": [
    "df = df.drop(df.index[0])"
   ]
  },
  {
   "cell_type": "code",
   "execution_count": 543,
   "metadata": {
    "collapsed": false
   },
   "outputs": [
    {
     "data": {
      "text/plain": [
       "(6064, 2)"
      ]
     },
     "execution_count": 543,
     "metadata": {},
     "output_type": "execute_result"
    }
   ],
   "source": [
    "df.shape"
   ]
  },
  {
   "cell_type": "markdown",
   "metadata": {},
   "source": [
    "# Now we convert the data into tfidf vectors and then we normalize these vectors"
   ]
  },
  {
   "cell_type": "code",
   "execution_count": 544,
   "metadata": {
    "collapsed": false
   },
   "outputs": [],
   "source": [
    "tweets = tf.fit_transform(sentences)\n",
    "tweets1 = norm.fit_transform(tweets.toarray())"
   ]
  },
  {
   "cell_type": "markdown",
   "metadata": {},
   "source": [
    "Training the data"
   ]
  },
  {
   "cell_type": "code",
   "execution_count": 549,
   "metadata": {
    "collapsed": false
   },
   "outputs": [],
   "source": [
    "X_train, X_test, y_train, y_test = train_test_split(tweets1, my_data.sent, test_size = 0.2, random_state = 0)"
   ]
  },
  {
   "cell_type": "code",
   "execution_count": 550,
   "metadata": {
    "collapsed": false
   },
   "outputs": [],
   "source": [
    "nb1.fit(tweets1, df.sent)\n",
    "pred = nb1.predict(test)\n",
    "#acc = accuracy_score(y_test, pred)\n",
    "#conf = confusion_matrix(y_test, pred)\n",
    "#acc"
   ]
  },
  {
   "cell_type": "markdown",
   "metadata": {},
   "source": [
    "We were able to reach 62% using the training data after tuning all these features and parameters \n",
    "\n",
    "we tried SVM, Logistic Regression and Bernoulli Naive bayes \n",
    "Multinomial naive bayes gave the best result"
   ]
  },
  {
   "cell_type": "markdown",
   "metadata": {},
   "source": [
    "# reading the data provided by Kaggle"
   ]
  },
  {
   "cell_type": "code",
   "execution_count": 588,
   "metadata": {
    "collapsed": true
   },
   "outputs": [],
   "source": [
    "test = open('test_out.txt', encoding='utf-8')"
   ]
  },
  {
   "cell_type": "code",
   "execution_count": 589,
   "metadata": {
    "collapsed": false
   },
   "outputs": [],
   "source": [
    "test = tf.transform(test)"
   ]
  },
  {
   "cell_type": "code",
   "execution_count": 590,
   "metadata": {
    "collapsed": true
   },
   "outputs": [],
   "source": [
    "predictions = nb1.predict(test)"
   ]
  },
  {
   "cell_type": "markdown",
   "metadata": {},
   "source": [
    "# we used Multiple ways to look into the data try to generate more features "
   ]
  },
  {
   "cell_type": "markdown",
   "metadata": {},
   "source": [
    "# we used tsne to squash the data into two dimensions to try to look at the data"
   ]
  },
  {
   "cell_type": "code",
   "execution_count": 591,
   "metadata": {
    "collapsed": true
   },
   "outputs": [],
   "source": [
    "tsne = TSNE(n_components=2, random_state=0)"
   ]
  },
  {
   "cell_type": "code",
   "execution_count": 592,
   "metadata": {
    "collapsed": true
   },
   "outputs": [],
   "source": [
    "word_matrix = tsne.fit_transform(tweets1)"
   ]
  },
  {
   "cell_type": "code",
   "execution_count": 593,
   "metadata": {
    "collapsed": true
   },
   "outputs": [],
   "source": [
    "points = pd.DataFrame(\n",
    "    [\n",
    "        (word, coords[0], coords[1])\n",
    "        for word, coords in [\n",
    "            (word, word_matrix[tf.vocabulary_[word]])\n",
    "            for word in tf.vocabulary_\n",
    "        ]\n",
    "    ],\n",
    "    columns=[\"word\", \"x\", \"y\"]\n",
    ")"
   ]
  },
  {
   "cell_type": "code",
   "execution_count": 594,
   "metadata": {
    "collapsed": false
   },
   "outputs": [
    {
     "data": {
      "text/plain": [
       "<matplotlib.axes._subplots.AxesSubplot at 0x119a94710>"
      ]
     },
     "execution_count": 594,
     "metadata": {},
     "output_type": "execute_result"
    },
    {
     "data": {
      "image/png": "[encoded data removed]",
      "text/plain": [
       "<matplotlib.figure.Figure at 0x119687ef0>"
      ]
     },
     "metadata": {},
     "output_type": "display_data"
    }
   ],
   "source": [
    "sns.set_context(\"poster\")\n",
    "points.plot.scatter(\"x\",\"y\", s=10, figsize=(20, 12))"
   ]
  },
  {
   "cell_type": "code",
   "execution_count": 595,
   "metadata": {
    "collapsed": false
   },
   "outputs": [
    {
     "data": {
      "image/png": "[encoded data removed]",
      "text/plain": [
       "<matplotlib.figure.Figure at 0x118e2cf98>"
      ]
     },
     "metadata": {},
     "output_type": "display_data"
    }
   ],
   "source": [
    "def plot_region(x_bounds, y_bounds):\n",
    "    slice = points[\n",
    "        (x_bounds[0] <= points.x) &\n",
    "        (points.x <= x_bounds[1]) & \n",
    "        (y_bounds[0] <= points.y) &\n",
    "        (points.y <= y_bounds[1])\n",
    "    ]\n",
    "    \n",
    "    ax = slice.plot.scatter(\"x\", \"y\", s=35, figsize=(10, 8))\n",
    "    for i, point in slice.iterrows():\n",
    "        ax.text(point.x + 0.005, point.y + 0.005, point.word, fontsize=11)\n",
    "        \n",
    "plot_region(x_bounds=(0, 5), y_bounds=(4, 5))"
   ]
  },
  {
   "cell_type": "code",
   "execution_count": 596,
   "metadata": {
    "collapsed": true
   },
   "outputs": [],
   "source": [
    "import numpy as np\n",
    "\n",
    "vec = np.argsort(tf.idf_)[::-1]\n",
    "features = tf.get_feature_names()\n",
    "top_features = [features[i] for i in vec]"
   ]
  },
  {
   "cell_type": "code",
   "execution_count": 597,
   "metadata": {
    "collapsed": false
   },
   "outputs": [
    {
     "data": {
      "text/plain": [
       "['ثورة',\n",
       " 'ولكل',\n",
       " 'تحتاج',\n",
       " 'دموعهم',\n",
       " 'بحاول',\n",
       " 'شنط',\n",
       " 'الدجال',\n",
       " 'صبرك',\n",
       " 'الذنب',\n",
       " 'تصدق']"
      ]
     },
     "execution_count": 597,
     "metadata": {},
     "output_type": "execute_result"
    }
   ],
   "source": [
    "top_features[:10]"
   ]
  },
  {
   "cell_type": "code",
   "execution_count": 598,
   "metadata": {
    "collapsed": false
   },
   "outputs": [
    {
     "data": {
      "text/plain": [
       "(3, 2500)"
      ]
     },
     "execution_count": 598,
     "metadata": {},
     "output_type": "execute_result"
    }
   ],
   "source": [
    "pos = nb.feature_count_[0,:]\n",
    "neg = nb.feature_count_[1,:]\n",
    "neu = nb.feature_count_[2,:]\n",
    "nb.feature_count_.shape\n",
    "\n"
   ]
  },
  {
   "cell_type": "code",
   "execution_count": 600,
   "metadata": {
    "collapsed": false
   },
   "outputs": [
    {
     "data": {
      "text/plain": [
       "['أبدا',\n",
       " 'أبل',\n",
       " 'أبو',\n",
       " 'أبوظبي',\n",
       " 'أبي',\n",
       " 'أثناء',\n",
       " 'أجل',\n",
       " 'أجمل',\n",
       " 'أجهزة',\n",
       " 'أحب',\n",
       " 'أحد',\n",
       " 'أحسن',\n",
       " 'أحلام',\n",
       " 'أحلى',\n",
       " 'أحمد',\n",
       " 'أحوازنا',\n",
       " 'أخ',\n",
       " 'أخبار',\n",
       " 'أخر',\n",
       " 'أخرى',\n",
       " 'أخي',\n",
       " 'أداء',\n",
       " 'أدب',\n",
       " 'أرامكو',\n",
       " 'أردوغان',\n",
       " 'أرض',\n",
       " 'أرم',\n",
       " 'أريد',\n",
       " 'أزمة',\n",
       " 'أزياء',\n",
       " 'أس',\n",
       " 'أسأل',\n",
       " 'أسئلة',\n",
       " 'أسباب',\n",
       " 'أسبوع',\n",
       " 'أسرار',\n",
       " 'أسرع',\n",
       " 'أسعار',\n",
       " 'أشهر',\n",
       " 'أشياء',\n",
       " 'أصبح',\n",
       " 'أصل',\n",
       " 'أطفال',\n",
       " 'أعلن',\n",
       " 'أعلنت',\n",
       " 'أعلى',\n",
       " 'أغنية',\n",
       " 'أفضل',\n",
       " 'أقرب',\n",
       " 'أكبر']"
      ]
     },
     "execution_count": 600,
     "metadata": {},
     "output_type": "execute_result"
    }
   ],
   "source": [
    "x_train_tokens  = tf.get_feature_names()\n",
    "tf.get_feature_names()[:50]"
   ]
  },
  {
   "cell_type": "markdown",
   "metadata": {},
   "source": [
    "# we created a data frame of all the features to see which features affects the label "
   ]
  },
  {
   "cell_type": "code",
   "execution_count": 601,
   "metadata": {
    "collapsed": false
   },
   "outputs": [
    {
     "data": {
      "text/html": [
       "<div>\n",
       "<table border=\"1\" class=\"dataframe\">\n",
       "  <thead>\n",
       "    <tr style=\"text-align: right;\">\n",
       "      <th></th>\n",
       "      <th>negative</th>\n",
       "      <th>neutral</th>\n",
       "      <th>positive</th>\n",
       "    </tr>\n",
       "    <tr>\n",
       "      <th>token</th>\n",
       "      <th></th>\n",
       "      <th></th>\n",
       "      <th></th>\n",
       "    </tr>\n",
       "  </thead>\n",
       "  <tbody>\n",
       "    <tr>\n",
       "      <th>أبدا</th>\n",
       "      <td>2.0</td>\n",
       "      <td>3.0</td>\n",
       "      <td>1.0</td>\n",
       "    </tr>\n",
       "    <tr>\n",
       "      <th>أبل</th>\n",
       "      <td>34.0</td>\n",
       "      <td>28.0</td>\n",
       "      <td>14.0</td>\n",
       "    </tr>\n",
       "    <tr>\n",
       "      <th>أبو</th>\n",
       "      <td>3.0</td>\n",
       "      <td>4.0</td>\n",
       "      <td>6.0</td>\n",
       "    </tr>\n",
       "    <tr>\n",
       "      <th>أبوظبي</th>\n",
       "      <td>3.0</td>\n",
       "      <td>1.0</td>\n",
       "      <td>0.0</td>\n",
       "    </tr>\n",
       "    <tr>\n",
       "      <th>أبي</th>\n",
       "      <td>1.0</td>\n",
       "      <td>1.0</td>\n",
       "      <td>0.0</td>\n",
       "    </tr>\n",
       "  </tbody>\n",
       "</table>\n",
       "</div>"
      ],
      "text/plain": [
       "        negative  neutral  positive\n",
       "token                              \n",
       "أبدا         2.0      3.0       1.0\n",
       "أبل         34.0     28.0      14.0\n",
       "أبو          3.0      4.0       6.0\n",
       "أبوظبي       3.0      1.0       0.0\n",
       "أبي          1.0      1.0       0.0"
      ]
     },
     "execution_count": 601,
     "metadata": {},
     "output_type": "execute_result"
    }
   ],
   "source": [
    "tokens = pd.DataFrame({'token': x_train_tokens[:3000], 'positive':pos, 'negative': neg,'neutral': neu}).set_index('token')\n",
    "\n",
    "tokens.head(5)"
   ]
  },
  {
   "cell_type": "code",
   "execution_count": 602,
   "metadata": {
    "collapsed": false
   },
   "outputs": [
    {
     "data": {
      "text/html": [
       "<div>\n",
       "<table border=\"1\" class=\"dataframe\">\n",
       "  <thead>\n",
       "    <tr style=\"text-align: right;\">\n",
       "      <th></th>\n",
       "      <th>negative</th>\n",
       "      <th>neutral</th>\n",
       "      <th>positive</th>\n",
       "    </tr>\n",
       "    <tr>\n",
       "      <th>token</th>\n",
       "      <th></th>\n",
       "      <th></th>\n",
       "      <th></th>\n",
       "    </tr>\n",
       "  </thead>\n",
       "  <tbody>\n",
       "    <tr>\n",
       "      <th>منشن</th>\n",
       "      <td>739.0</td>\n",
       "      <td>566.0</td>\n",
       "      <td>647.0</td>\n",
       "    </tr>\n",
       "    <tr>\n",
       "      <th>لينك</th>\n",
       "      <td>757.0</td>\n",
       "      <td>418.0</td>\n",
       "      <td>436.0</td>\n",
       "    </tr>\n",
       "    <tr>\n",
       "      <th>من</th>\n",
       "      <td>334.0</td>\n",
       "      <td>243.0</td>\n",
       "      <td>329.0</td>\n",
       "    </tr>\n",
       "    <tr>\n",
       "      <th>في</th>\n",
       "      <td>367.0</td>\n",
       "      <td>227.0</td>\n",
       "      <td>333.0</td>\n",
       "    </tr>\n",
       "    <tr>\n",
       "      <th>على</th>\n",
       "      <td>207.0</td>\n",
       "      <td>162.0</td>\n",
       "      <td>191.0</td>\n",
       "    </tr>\n",
       "    <tr>\n",
       "      <th>الله</th>\n",
       "      <td>76.0</td>\n",
       "      <td>145.0</td>\n",
       "      <td>60.0</td>\n",
       "    </tr>\n",
       "    <tr>\n",
       "      <th>يا</th>\n",
       "      <td>59.0</td>\n",
       "      <td>121.0</td>\n",
       "      <td>138.0</td>\n",
       "    </tr>\n",
       "    <tr>\n",
       "      <th>سعيد</th>\n",
       "      <td>75.0</td>\n",
       "      <td>89.0</td>\n",
       "      <td>52.0</td>\n",
       "    </tr>\n",
       "    <tr>\n",
       "      <th>كل</th>\n",
       "      <td>46.0</td>\n",
       "      <td>85.0</td>\n",
       "      <td>78.0</td>\n",
       "    </tr>\n",
       "    <tr>\n",
       "      <th>ال</th>\n",
       "      <td>117.0</td>\n",
       "      <td>75.0</td>\n",
       "      <td>123.0</td>\n",
       "    </tr>\n",
       "  </tbody>\n",
       "</table>\n",
       "</div>"
      ],
      "text/plain": [
       "       negative  neutral  positive\n",
       "token                             \n",
       "منشن      739.0    566.0     647.0\n",
       "لينك      757.0    418.0     436.0\n",
       "من        334.0    243.0     329.0\n",
       "في        367.0    227.0     333.0\n",
       "على       207.0    162.0     191.0\n",
       "الله       76.0    145.0      60.0\n",
       "يا         59.0    121.0     138.0\n",
       "سعيد       75.0     89.0      52.0\n",
       "كل         46.0     85.0      78.0\n",
       "ال        117.0     75.0     123.0"
      ]
     },
     "execution_count": 602,
     "metadata": {},
     "output_type": "execute_result"
    }
   ],
   "source": [
    "tokens.sort_values('neutral',ascending=False).head(10)\n"
   ]
  },
  {
   "cell_type": "markdown",
   "metadata": {},
   "source": [
    "# project by:"
   ]
  },
  {
   "cell_type": "markdown",
   "metadata": {},
   "source": [
    "# Muhammed Mahmoud AbdelHameed\n",
    "# muha.eltabakh@gmail.com"
   ]
  },
  {
   "cell_type": "markdown",
   "metadata": {},
   "source": [
    "# Nourhan Abdelaal Ali\n",
    "# Nourhan.a.ali@gmail.com\n"
   ]
  },
  {
   "cell_type": "code",
   "execution_count": null,
   "metadata": {
    "collapsed": true
   },
   "outputs": [],
   "source": []
  }
 ],
 "metadata": {
  "kernelspec": {
   "display_name": "Python 3",
   "language": "python",
   "name": "python3"
  },
  "language_info": {
   "codemirror_mode": {
    "name": "ipython",
    "version": 3
   },
   "file_extension": ".py",
   "mimetype": "text/x-python",
   "name": "python",
   "nbconvert_exporter": "python",
   "pygments_lexer": "ipython3",
   "version": "3.5.1"
  }
 },
 "nbformat": 4,
 "nbformat_minor": 2
}
